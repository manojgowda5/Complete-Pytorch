{
  "nbformat": 4,
  "nbformat_minor": 0,
  "metadata": {
    "colab": {
      "provenance": [],
      "gpuType": "T4"
    },
    "kernelspec": {
      "name": "python3",
      "display_name": "Python 3"
    },
    "language_info": {
      "name": "python"
    },
    "accelerator": "GPU"
  },
  "cells": [
    {
      "cell_type": "code",
      "execution_count": null,
      "metadata": {
        "colab": {
          "base_uri": "https://localhost:8080/"
        },
        "id": "izb_-JPBNvbz",
        "outputId": "460533a2-a7b9-460e-e33f-a3ebd2d94123"
      },
      "outputs": [
        {
          "output_type": "stream",
          "name": "stdout",
          "text": [
            "hello world\n"
          ]
        }
      ],
      "source": [
        "print(\"hello world\")\n"
      ]
    },
    {
      "cell_type": "code",
      "source": [
        "import torch\n",
        "print(torch.__version__)"
      ],
      "metadata": {
        "colab": {
          "base_uri": "https://localhost:8080/"
        },
        "id": "8F78oveUO7U9",
        "outputId": "59a0ffd7-157f-4763-813a-e67c2c022281"
      },
      "execution_count": null,
      "outputs": [
        {
          "output_type": "stream",
          "name": "stdout",
          "text": [
            "2.6.0+cu124\n"
          ]
        }
      ]
    },
    {
      "cell_type": "code",
      "source": [
        "scalar=torch.tensor(2)"
      ],
      "metadata": {
        "id": "8AN_XIRxPck6"
      },
      "execution_count": null,
      "outputs": []
    },
    {
      "cell_type": "code",
      "source": [
        "scalar"
      ],
      "metadata": {
        "colab": {
          "base_uri": "https://localhost:8080/"
        },
        "id": "2kQPkULO5SHp",
        "outputId": "678da712-dccb-4beb-9ef3-7cbe19e07239"
      },
      "execution_count": null,
      "outputs": [
        {
          "output_type": "execute_result",
          "data": {
            "text/plain": [
              "tensor(2)"
            ]
          },
          "metadata": {},
          "execution_count": 4
        }
      ]
    },
    {
      "cell_type": "code",
      "source": [
        "scalar.ndim\n",
        "scalar.shape"
      ],
      "metadata": {
        "colab": {
          "base_uri": "https://localhost:8080/"
        },
        "id": "uTeMVFB55bAd",
        "outputId": "1b097bfc-fe30-4344-cb2a-57583d81c66b"
      },
      "execution_count": null,
      "outputs": [
        {
          "output_type": "execute_result",
          "data": {
            "text/plain": [
              "torch.Size([])"
            ]
          },
          "metadata": {},
          "execution_count": 5
        }
      ]
    },
    {
      "cell_type": "code",
      "source": [
        "scalar.item()"
      ],
      "metadata": {
        "colab": {
          "base_uri": "https://localhost:8080/"
        },
        "id": "d4whn0K05urr",
        "outputId": "aabf5af5-e866-40fb-ad8d-de3fc031c881"
      },
      "execution_count": null,
      "outputs": [
        {
          "output_type": "execute_result",
          "data": {
            "text/plain": [
              "2"
            ]
          },
          "metadata": {},
          "execution_count": 6
        }
      ]
    },
    {
      "cell_type": "code",
      "source": [
        "vector=torch.tensor([7,7])\n",
        "vector"
      ],
      "metadata": {
        "colab": {
          "base_uri": "https://localhost:8080/"
        },
        "id": "sShWJC5O5yLQ",
        "outputId": "82dcc0c1-2b5f-44e3-f7c3-ed53bb8d639f"
      },
      "execution_count": null,
      "outputs": [
        {
          "output_type": "execute_result",
          "data": {
            "text/plain": [
              "tensor([7, 7])"
            ]
          },
          "metadata": {},
          "execution_count": 7
        }
      ]
    },
    {
      "cell_type": "code",
      "source": [
        "vector.ndim\n"
      ],
      "metadata": {
        "colab": {
          "base_uri": "https://localhost:8080/"
        },
        "id": "4ZMNdvFT5_Hw",
        "outputId": "8363353f-ebbe-44b3-bfd7-7960b8aefc2a"
      },
      "execution_count": null,
      "outputs": [
        {
          "output_type": "execute_result",
          "data": {
            "text/plain": [
              "1"
            ]
          },
          "metadata": {},
          "execution_count": 8
        }
      ]
    },
    {
      "cell_type": "code",
      "source": [
        "vector.shape"
      ],
      "metadata": {
        "colab": {
          "base_uri": "https://localhost:8080/"
        },
        "id": "4I5El-Eg6FWu",
        "outputId": "462fa757-e0fc-4920-9db1-3c15e486543f"
      },
      "execution_count": null,
      "outputs": [
        {
          "output_type": "execute_result",
          "data": {
            "text/plain": [
              "torch.Size([2])"
            ]
          },
          "metadata": {},
          "execution_count": 9
        }
      ]
    },
    {
      "cell_type": "code",
      "source": [
        "matrix=torch.tensor([[11,12,0],[1,2,0],[2,3,0]])\n",
        "matrix"
      ],
      "metadata": {
        "colab": {
          "base_uri": "https://localhost:8080/"
        },
        "id": "gX2br_XT6VXu",
        "outputId": "dd8675bc-33cb-462c-f734-0c863261e39c"
      },
      "execution_count": null,
      "outputs": [
        {
          "output_type": "execute_result",
          "data": {
            "text/plain": [
              "tensor([[11, 12,  0],\n",
              "        [ 1,  2,  0],\n",
              "        [ 2,  3,  0]])"
            ]
          },
          "metadata": {},
          "execution_count": 10
        }
      ]
    },
    {
      "cell_type": "code",
      "source": [
        "matrix.ndim"
      ],
      "metadata": {
        "colab": {
          "base_uri": "https://localhost:8080/"
        },
        "id": "zXM7KoNm6ghZ",
        "outputId": "e032e3c1-24e2-4ddc-8ca3-c343f5f6da76"
      },
      "execution_count": null,
      "outputs": [
        {
          "output_type": "execute_result",
          "data": {
            "text/plain": [
              "2"
            ]
          },
          "metadata": {},
          "execution_count": 11
        }
      ]
    },
    {
      "cell_type": "code",
      "source": [
        "matrix.shape"
      ],
      "metadata": {
        "colab": {
          "base_uri": "https://localhost:8080/"
        },
        "id": "6ihsFa9f6nRL",
        "outputId": "cf0b3aaf-dfac-45e0-da01-0b0f88dbe4df"
      },
      "execution_count": null,
      "outputs": [
        {
          "output_type": "execute_result",
          "data": {
            "text/plain": [
              "torch.Size([3, 3])"
            ]
          },
          "metadata": {},
          "execution_count": 12
        }
      ]
    },
    {
      "cell_type": "code",
      "source": [
        "tensor=torch.tensor([[[1,2,3],[4,5,6],[7,8,9]]])"
      ],
      "metadata": {
        "id": "4WlYE7Aa6u9c"
      },
      "execution_count": null,
      "outputs": []
    },
    {
      "cell_type": "code",
      "source": [
        "tensor"
      ],
      "metadata": {
        "colab": {
          "base_uri": "https://localhost:8080/"
        },
        "id": "MTgMRTA-pt7r",
        "outputId": "4e1dd385-d8de-40b6-9706-157abcb9e4eb"
      },
      "execution_count": null,
      "outputs": [
        {
          "output_type": "execute_result",
          "data": {
            "text/plain": [
              "tensor([[[1, 2, 3],\n",
              "         [4, 5, 6],\n",
              "         [7, 8, 9]]])"
            ]
          },
          "metadata": {},
          "execution_count": 14
        }
      ]
    },
    {
      "cell_type": "code",
      "source": [
        "tensor.shape"
      ],
      "metadata": {
        "colab": {
          "base_uri": "https://localhost:8080/"
        },
        "id": "R_fNP_K_pvTG",
        "outputId": "d7c9df2e-5bf8-4463-bf1a-caaeb73437b4"
      },
      "execution_count": null,
      "outputs": [
        {
          "output_type": "execute_result",
          "data": {
            "text/plain": [
              "torch.Size([1, 3, 3])"
            ]
          },
          "metadata": {},
          "execution_count": 15
        }
      ]
    },
    {
      "cell_type": "code",
      "source": [
        "tensor.ndim"
      ],
      "metadata": {
        "colab": {
          "base_uri": "https://localhost:8080/"
        },
        "id": "0lpCgauepy_7",
        "outputId": "e143a779-655e-4dc0-da46-94ea1324ddf0"
      },
      "execution_count": null,
      "outputs": [
        {
          "output_type": "execute_result",
          "data": {
            "text/plain": [
              "3"
            ]
          },
          "metadata": {},
          "execution_count": 16
        }
      ]
    },
    {
      "cell_type": "code",
      "source": [
        "tensor1=torch.tensor([[[1,2,3],[4,5,6],[7,8,9]],[[1,2,3],[4,5,6],[7,8,9]]])\n",
        "tensor1.shape"
      ],
      "metadata": {
        "colab": {
          "base_uri": "https://localhost:8080/"
        },
        "id": "VBC7i2EEjmmN",
        "outputId": "de1a88d9-fc86-43ad-9d5e-b76489cf3b23"
      },
      "execution_count": null,
      "outputs": [
        {
          "output_type": "execute_result",
          "data": {
            "text/plain": [
              "torch.Size([2, 3, 3])"
            ]
          },
          "metadata": {},
          "execution_count": 17
        }
      ]
    },
    {
      "cell_type": "code",
      "source": [
        "tensor1"
      ],
      "metadata": {
        "colab": {
          "base_uri": "https://localhost:8080/"
        },
        "id": "PhOP14AOk0ti",
        "outputId": "78a3fd54-1666-44b1-c2d9-bd8fc9951b7a"
      },
      "execution_count": null,
      "outputs": [
        {
          "output_type": "execute_result",
          "data": {
            "text/plain": [
              "tensor([[[1, 2, 3],\n",
              "         [4, 5, 6],\n",
              "         [7, 8, 9]],\n",
              "\n",
              "        [[1, 2, 3],\n",
              "         [4, 5, 6],\n",
              "         [7, 8, 9]]])"
            ]
          },
          "metadata": {},
          "execution_count": 18
        }
      ]
    },
    {
      "cell_type": "code",
      "source": [
        "tensor[0][0][0].item()"
      ],
      "metadata": {
        "colab": {
          "base_uri": "https://localhost:8080/"
        },
        "id": "jZBvctvWp9LY",
        "outputId": "02f1f1f0-8b2c-4e4c-84f7-6da343fc050e"
      },
      "execution_count": null,
      "outputs": [
        {
          "output_type": "execute_result",
          "data": {
            "text/plain": [
              "1"
            ]
          },
          "metadata": {},
          "execution_count": 19
        }
      ]
    },
    {
      "cell_type": "code",
      "source": [
        "random_tensor1=torch.rand(size=(1,3,3),dtype=torch.float64)\n",
        "random_tensor1"
      ],
      "metadata": {
        "colab": {
          "base_uri": "https://localhost:8080/"
        },
        "id": "s8STNx5BqW7r",
        "outputId": "2c923ae8-cac9-4dfd-9470-95dbffd0a944"
      },
      "execution_count": null,
      "outputs": [
        {
          "output_type": "execute_result",
          "data": {
            "text/plain": [
              "tensor([[[0.3634, 0.3289, 0.9624],\n",
              "         [0.0465, 0.6059, 0.8708],\n",
              "         [0.0119, 0.3419, 0.6731]]], dtype=torch.float64)"
            ]
          },
          "metadata": {},
          "execution_count": 20
        }
      ]
    },
    {
      "cell_type": "code",
      "source": [
        "random_tensor1.dtype"
      ],
      "metadata": {
        "colab": {
          "base_uri": "https://localhost:8080/"
        },
        "id": "63_rqCYYxWgC",
        "outputId": "be6abacb-4968-4813-fac2-a50ce35c9b2a"
      },
      "execution_count": null,
      "outputs": [
        {
          "output_type": "execute_result",
          "data": {
            "text/plain": [
              "torch.float64"
            ]
          },
          "metadata": {},
          "execution_count": 21
        }
      ]
    },
    {
      "cell_type": "code",
      "source": [
        "random_tensor2=torch.randint(0,10,size=(3,3),dtype=torch.int32)"
      ],
      "metadata": {
        "id": "2A4D0sUyxbaI"
      },
      "execution_count": null,
      "outputs": []
    },
    {
      "cell_type": "code",
      "source": [
        "random_tensor2\n"
      ],
      "metadata": {
        "colab": {
          "base_uri": "https://localhost:8080/"
        },
        "id": "4W7aE7EIxk8j",
        "outputId": "ca051c9a-b3ba-4c4c-ddb5-43823672d081"
      },
      "execution_count": null,
      "outputs": [
        {
          "output_type": "execute_result",
          "data": {
            "text/plain": [
              "tensor([[2, 6, 1],\n",
              "        [9, 9, 1],\n",
              "        [7, 5, 8]], dtype=torch.int32)"
            ]
          },
          "metadata": {},
          "execution_count": 23
        }
      ]
    },
    {
      "cell_type": "code",
      "source": [
        "torch.rand(1,3,3)"
      ],
      "metadata": {
        "colab": {
          "base_uri": "https://localhost:8080/"
        },
        "id": "uSnQy4LHx_rB",
        "outputId": "040a8d4e-c55a-4e0b-ea2a-a40f48bf79f7"
      },
      "execution_count": null,
      "outputs": [
        {
          "output_type": "execute_result",
          "data": {
            "text/plain": [
              "tensor([[[0.1251, 0.9680, 0.0428],\n",
              "         [0.7844, 0.7551, 0.3633],\n",
              "         [0.9314, 0.3854, 0.6127]]])"
            ]
          },
          "metadata": {},
          "execution_count": 24
        }
      ]
    },
    {
      "cell_type": "code",
      "source": [
        "zeros=torch.zeros(size=(3,3))\n",
        "zeros"
      ],
      "metadata": {
        "colab": {
          "base_uri": "https://localhost:8080/"
        },
        "id": "lnRF5EKPgLKA",
        "outputId": "5458fb9e-5b22-4796-d602-4ab72d8fb4e5"
      },
      "execution_count": null,
      "outputs": [
        {
          "output_type": "execute_result",
          "data": {
            "text/plain": [
              "tensor([[0., 0., 0.],\n",
              "        [0., 0., 0.],\n",
              "        [0., 0., 0.]])"
            ]
          },
          "metadata": {},
          "execution_count": 25
        }
      ]
    },
    {
      "cell_type": "code",
      "source": [
        "ones=torch.ones((3,3),dtype=torch.int32)\n",
        "ones"
      ],
      "metadata": {
        "colab": {
          "base_uri": "https://localhost:8080/"
        },
        "id": "-nYf8zpOgqUb",
        "outputId": "456b8567-9550-4c69-82c2-c58e7404bb98"
      },
      "execution_count": null,
      "outputs": [
        {
          "output_type": "execute_result",
          "data": {
            "text/plain": [
              "tensor([[1, 1, 1],\n",
              "        [1, 1, 1],\n",
              "        [1, 1, 1]], dtype=torch.int32)"
            ]
          },
          "metadata": {},
          "execution_count": 26
        }
      ]
    },
    {
      "cell_type": "code",
      "source": [
        "ones.dtype"
      ],
      "metadata": {
        "colab": {
          "base_uri": "https://localhost:8080/"
        },
        "id": "TNeXeDNfgpd0",
        "outputId": "977dd3c6-7cea-46ff-e754-3da0093f0259"
      },
      "execution_count": null,
      "outputs": [
        {
          "output_type": "execute_result",
          "data": {
            "text/plain": [
              "torch.int32"
            ]
          },
          "metadata": {},
          "execution_count": 27
        }
      ]
    },
    {
      "cell_type": "code",
      "source": [
        "torch.arange(5,10)"
      ],
      "metadata": {
        "colab": {
          "base_uri": "https://localhost:8080/"
        },
        "id": "4EDJGic-g3oW",
        "outputId": "b83d9ae7-2c6c-4c39-b8b5-f04f207e1d8a"
      },
      "execution_count": null,
      "outputs": [
        {
          "output_type": "execute_result",
          "data": {
            "text/plain": [
              "tensor([5, 6, 7, 8, 9])"
            ]
          },
          "metadata": {},
          "execution_count": 28
        }
      ]
    },
    {
      "cell_type": "code",
      "source": [
        "torch.arange(1,1000,69)"
      ],
      "metadata": {
        "colab": {
          "base_uri": "https://localhost:8080/"
        },
        "id": "5EgJ5BhuhUmc",
        "outputId": "e27382e6-da12-47fb-d8bb-ea2a2c77df35"
      },
      "execution_count": null,
      "outputs": [
        {
          "output_type": "execute_result",
          "data": {
            "text/plain": [
              "tensor([  1,  70, 139, 208, 277, 346, 415, 484, 553, 622, 691, 760, 829, 898,\n",
              "        967])"
            ]
          },
          "metadata": {},
          "execution_count": 29
        }
      ]
    },
    {
      "cell_type": "code",
      "source": [
        "zeros_like=torch.zeros_like(input=random_tensor1)\n",
        "zeros_like"
      ],
      "metadata": {
        "colab": {
          "base_uri": "https://localhost:8080/"
        },
        "id": "IvO7qyfEhvND",
        "outputId": "438b4a6a-abf1-4c6c-d8b9-bcaf14965640"
      },
      "execution_count": null,
      "outputs": [
        {
          "output_type": "execute_result",
          "data": {
            "text/plain": [
              "tensor([[[0., 0., 0.],\n",
              "         [0., 0., 0.],\n",
              "         [0., 0., 0.]]], dtype=torch.float64)"
            ]
          },
          "metadata": {},
          "execution_count": 30
        }
      ]
    },
    {
      "cell_type": "code",
      "source": [
        "float_16=torch.tensor([1.0,2.0,3.0],dtype=torch.float16)\n",
        "float_16"
      ],
      "metadata": {
        "colab": {
          "base_uri": "https://localhost:8080/"
        },
        "id": "C7NRhPPCiVOX",
        "outputId": "75f530d1-245f-4197-aedc-c248c620390b"
      },
      "execution_count": null,
      "outputs": [
        {
          "output_type": "execute_result",
          "data": {
            "text/plain": [
              "tensor([1., 2., 3.], dtype=torch.float16)"
            ]
          },
          "metadata": {},
          "execution_count": 31
        }
      ]
    },
    {
      "cell_type": "code",
      "source": [
        "float_32=torch.tensor([1,2,3],dtype=torch.float32)\n",
        "float_32"
      ],
      "metadata": {
        "colab": {
          "base_uri": "https://localhost:8080/"
        },
        "id": "e65H94D7oGNP",
        "outputId": "7f72307f-c197-4a14-89a0-e619016c74a1"
      },
      "execution_count": null,
      "outputs": [
        {
          "output_type": "execute_result",
          "data": {
            "text/plain": [
              "tensor([1., 2., 3.])"
            ]
          },
          "metadata": {},
          "execution_count": 32
        }
      ]
    },
    {
      "cell_type": "code",
      "source": [
        "float_16*float_32"
      ],
      "metadata": {
        "colab": {
          "base_uri": "https://localhost:8080/"
        },
        "id": "tsTI8JfLoTop",
        "outputId": "fe43cefa-5378-47b8-88ed-d16262e1b736"
      },
      "execution_count": null,
      "outputs": [
        {
          "output_type": "execute_result",
          "data": {
            "text/plain": [
              "tensor([1., 4., 9.])"
            ]
          },
          "metadata": {},
          "execution_count": 33
        }
      ]
    },
    {
      "cell_type": "code",
      "source": [
        "random_tensor3=torch.rand((3,4),dtype=torch.float64)\n",
        "random_tensor3"
      ],
      "metadata": {
        "colab": {
          "base_uri": "https://localhost:8080/"
        },
        "id": "wXddtCuGGpno",
        "outputId": "fbec48b9-3f29-4701-9aa3-c1def2829cf7"
      },
      "execution_count": null,
      "outputs": [
        {
          "output_type": "execute_result",
          "data": {
            "text/plain": [
              "tensor([[0.7406, 0.7616, 0.2964, 0.4751],\n",
              "        [0.0807, 0.2976, 0.9797, 0.3207],\n",
              "        [0.3660, 0.7969, 0.6826, 0.1615]], dtype=torch.float64)"
            ]
          },
          "metadata": {},
          "execution_count": 34
        }
      ]
    },
    {
      "cell_type": "code",
      "source": [
        "print(f\"Datatype of the tensor: {random_tensor3.dtype}\")\n",
        "print(f\"Shape of the tensor: {random_tensor3.shape}\")\n",
        "print(f\"Device of the tensor: {random_tensor3.device}\")"
      ],
      "metadata": {
        "colab": {
          "base_uri": "https://localhost:8080/"
        },
        "id": "aILjRSU4IQnq",
        "outputId": "8b6881d5-da9f-49f4-afae-8b27d160de46"
      },
      "execution_count": null,
      "outputs": [
        {
          "output_type": "stream",
          "name": "stdout",
          "text": [
            "Datatype of the tensor: torch.float64\n",
            "Shape of the tensor: torch.Size([3, 4])\n",
            "Device of the tensor: cpu\n"
          ]
        }
      ]
    },
    {
      "cell_type": "code",
      "source": [
        "\n",
        "\n",
        "# Check if GPU (CUDA) is available\n",
        "device = torch.device(\"cuda\" if torch.cuda.is_available() else \"cpu\")\n",
        "print(\"Using device:\", device)\n"
      ],
      "metadata": {
        "colab": {
          "base_uri": "https://localhost:8080/"
        },
        "id": "bwbiKFHSInfC",
        "outputId": "f6f6fec3-fdcc-4e96-c18e-7df615a59c63"
      },
      "execution_count": null,
      "outputs": [
        {
          "output_type": "stream",
          "name": "stdout",
          "text": [
            "Using device: cuda\n"
          ]
        }
      ]
    },
    {
      "cell_type": "code",
      "source": [
        "random_image_size_tensor = torch.rand(size=(3, 3, 3))\n",
        "random_image_size_tensor, random_image_size_tensor.type"
      ],
      "metadata": {
        "id": "67f4MFI8JFZh",
        "colab": {
          "base_uri": "https://localhost:8080/"
        },
        "outputId": "9bef9ce2-e606-436f-966e-38d962f813d8"
      },
      "execution_count": null,
      "outputs": [
        {
          "output_type": "execute_result",
          "data": {
            "text/plain": [
              "(tensor([[[0.0405, 0.7282, 0.2237],\n",
              "          [0.2545, 0.2182, 0.7496],\n",
              "          [0.2580, 0.4332, 0.6893]],\n",
              " \n",
              "         [[0.4250, 0.5671, 0.0432],\n",
              "          [0.1199, 0.7845, 0.5123],\n",
              "          [0.6295, 0.4558, 0.5543]],\n",
              " \n",
              "         [[0.9241, 0.4004, 0.7306],\n",
              "          [0.1273, 0.1810, 0.4165],\n",
              "          [0.1849, 0.0380, 0.0874]]]),\n",
              " <function Tensor.type>)"
            ]
          },
          "metadata": {},
          "execution_count": 37
        }
      ]
    },
    {
      "cell_type": "code",
      "source": [
        "import torch\n",
        "\n",
        "# Create a tensor with requires_grad=True\n",
        "x = torch.tensor([2.0, 3.0], requires_grad=True)\n",
        "\n",
        "# Some operation\n",
        "y = x * x + 2\n",
        "\n",
        "# Sum the result to get a scalar\n",
        "z = y.sum()\n",
        "\n",
        "# Compute gradients\n",
        "z.backward()\n",
        "\n",
        "# Now x.grad contains the derivative of z with respect to x\n",
        "print(x.grad)\n"
      ],
      "metadata": {
        "colab": {
          "base_uri": "https://localhost:8080/"
        },
        "id": "XLCs-i-Y908R",
        "outputId": "7b437849-9bb8-4d1a-cd9c-369525a4465f"
      },
      "execution_count": null,
      "outputs": [
        {
          "output_type": "stream",
          "name": "stdout",
          "text": [
            "tensor([4., 6.])\n"
          ]
        }
      ]
    },
    {
      "cell_type": "code",
      "source": [
        "tensor10 = torch.tensor([1,2,3])\n",
        "tensor10 * 10\n",
        "tensor10.ndim"
      ],
      "metadata": {
        "colab": {
          "base_uri": "https://localhost:8080/"
        },
        "id": "48vVWDnEUV-o",
        "outputId": "03036e4c-85a3-40fb-c5f5-b377963970ce"
      },
      "execution_count": null,
      "outputs": [
        {
          "output_type": "execute_result",
          "data": {
            "text/plain": [
              "1"
            ]
          },
          "metadata": {},
          "execution_count": 39
        }
      ]
    },
    {
      "cell_type": "code",
      "source": [
        "torch.multiply(tensor10,100)"
      ],
      "metadata": {
        "colab": {
          "base_uri": "https://localhost:8080/"
        },
        "id": "80fezP00W7jk",
        "outputId": "39a87ab4-f9cd-4f76-ea00-5eaff07c997e"
      },
      "execution_count": null,
      "outputs": [
        {
          "output_type": "execute_result",
          "data": {
            "text/plain": [
              "tensor([100, 200, 300])"
            ]
          },
          "metadata": {},
          "execution_count": 40
        }
      ]
    },
    {
      "cell_type": "code",
      "source": [
        "tensor10 * tensor10"
      ],
      "metadata": {
        "colab": {
          "base_uri": "https://localhost:8080/"
        },
        "id": "nPZrd2hbW78f",
        "outputId": "747a3fd4-f7b8-4d48-f23b-faca591d9bda"
      },
      "execution_count": null,
      "outputs": [
        {
          "output_type": "execute_result",
          "data": {
            "text/plain": [
              "tensor([1, 4, 9])"
            ]
          },
          "metadata": {},
          "execution_count": 41
        }
      ]
    },
    {
      "cell_type": "code",
      "source": [
        "torch.matmul(tensor10,tensor10)"
      ],
      "metadata": {
        "colab": {
          "base_uri": "https://localhost:8080/"
        },
        "id": "hjGRs-ZgW8F_",
        "outputId": "eefe3262-b3cc-490c-c44b-d56cba5ab7ce"
      },
      "execution_count": null,
      "outputs": [
        {
          "output_type": "execute_result",
          "data": {
            "text/plain": [
              "tensor(14)"
            ]
          },
          "metadata": {},
          "execution_count": 42
        }
      ]
    },
    {
      "cell_type": "code",
      "source": [
        "t1=torch.rand(2,3)\n",
        "t2=torch.rand(3,2)\n",
        "t3=torch.mm(t1,t2)\n",
        "t3"
      ],
      "metadata": {
        "colab": {
          "base_uri": "https://localhost:8080/"
        },
        "id": "lU8Tv6eZW8Pa",
        "outputId": "17eaf88d-77bb-4130-d723-9a6d2da5708e"
      },
      "execution_count": null,
      "outputs": [
        {
          "output_type": "execute_result",
          "data": {
            "text/plain": [
              "tensor([[0.2959, 0.4280],\n",
              "        [0.5452, 0.7770]])"
            ]
          },
          "metadata": {},
          "execution_count": 43
        }
      ]
    },
    {
      "cell_type": "code",
      "source": [
        "t2.T"
      ],
      "metadata": {
        "colab": {
          "base_uri": "https://localhost:8080/"
        },
        "id": "W_3QemN5ZuM3",
        "outputId": "da9831f0-51a9-4f20-f46e-bca49003cfbb"
      },
      "execution_count": null,
      "outputs": [
        {
          "output_type": "execute_result",
          "data": {
            "text/plain": [
              "tensor([[0.0712, 0.3008, 0.5367],\n",
              "        [0.2477, 0.4552, 0.5256]])"
            ]
          },
          "metadata": {},
          "execution_count": 44
        }
      ]
    },
    {
      "cell_type": "code",
      "source": [
        "torch.mm(t1,t1.T)"
      ],
      "metadata": {
        "colab": {
          "base_uri": "https://localhost:8080/"
        },
        "id": "gjMymIIiZuRc",
        "outputId": "694b3e5f-6564-45af-abef-2c8797fb7790"
      },
      "execution_count": null,
      "outputs": [
        {
          "output_type": "execute_result",
          "data": {
            "text/plain": [
              "tensor([[0.4416, 0.6959],\n",
              "        [0.6959, 1.3004]])"
            ]
          },
          "metadata": {},
          "execution_count": 45
        }
      ]
    },
    {
      "cell_type": "code",
      "source": [
        "x=torch.arange(12,121,12)\n",
        "x"
      ],
      "metadata": {
        "id": "62qr0lHmRQ2F",
        "colab": {
          "base_uri": "https://localhost:8080/"
        },
        "outputId": "374926b1-93a4-4029-cc98-2ada196aefc9"
      },
      "execution_count": null,
      "outputs": [
        {
          "output_type": "execute_result",
          "data": {
            "text/plain": [
              "tensor([ 12,  24,  36,  48,  60,  72,  84,  96, 108, 120])"
            ]
          },
          "metadata": {},
          "execution_count": 46
        }
      ]
    },
    {
      "cell_type": "code",
      "source": [
        "x.min()"
      ],
      "metadata": {
        "colab": {
          "base_uri": "https://localhost:8080/"
        },
        "id": "nOGh7EmqfZ57",
        "outputId": "a03b5dc7-c558-4ae4-d62b-83aeb93c0e23"
      },
      "execution_count": null,
      "outputs": [
        {
          "output_type": "execute_result",
          "data": {
            "text/plain": [
              "tensor(12)"
            ]
          },
          "metadata": {},
          "execution_count": 47
        }
      ]
    },
    {
      "cell_type": "code",
      "source": [
        "x.max()"
      ],
      "metadata": {
        "colab": {
          "base_uri": "https://localhost:8080/"
        },
        "id": "-TpXTOBLfaT2",
        "outputId": "ee639a99-62d4-43f4-d6b4-f715d3e66a7c"
      },
      "execution_count": null,
      "outputs": [
        {
          "output_type": "execute_result",
          "data": {
            "text/plain": [
              "tensor(120)"
            ]
          },
          "metadata": {},
          "execution_count": 48
        }
      ]
    },
    {
      "cell_type": "code",
      "source": [
        "x.mean(dtype=torch.float32)"
      ],
      "metadata": {
        "colab": {
          "base_uri": "https://localhost:8080/"
        },
        "id": "y9L9Et0RL5pY",
        "outputId": "8263f4c4-509a-4b96-b484-7b3fe63ad2da"
      },
      "execution_count": null,
      "outputs": [
        {
          "output_type": "execute_result",
          "data": {
            "text/plain": [
              "tensor(66.)"
            ]
          },
          "metadata": {},
          "execution_count": 49
        }
      ]
    },
    {
      "cell_type": "code",
      "source": [
        "torch.min(x),torch.max(x)"
      ],
      "metadata": {
        "colab": {
          "base_uri": "https://localhost:8080/"
        },
        "id": "oJrvx19Vfn0j",
        "outputId": "e3005ead-35d4-4c0c-c66f-6fb5c7641012"
      },
      "execution_count": null,
      "outputs": [
        {
          "output_type": "execute_result",
          "data": {
            "text/plain": [
              "(tensor(12), tensor(120))"
            ]
          },
          "metadata": {},
          "execution_count": 50
        }
      ]
    },
    {
      "cell_type": "code",
      "source": [
        "torch.mean(x.type(torch.float32))"
      ],
      "metadata": {
        "colab": {
          "base_uri": "https://localhost:8080/"
        },
        "id": "Jtr1UBOQLIZ-",
        "outputId": "01af084a-b245-42fb-e005-d0d0d68e98d7"
      },
      "execution_count": null,
      "outputs": [
        {
          "output_type": "execute_result",
          "data": {
            "text/plain": [
              "tensor(66.)"
            ]
          },
          "metadata": {},
          "execution_count": 51
        }
      ]
    },
    {
      "cell_type": "code",
      "source": [
        "x, x.dtype"
      ],
      "metadata": {
        "colab": {
          "base_uri": "https://localhost:8080/"
        },
        "id": "kufvG0dLLJb4",
        "outputId": "b6caa359-5146-43d1-8d48-348972e6c593"
      },
      "execution_count": null,
      "outputs": [
        {
          "output_type": "execute_result",
          "data": {
            "text/plain": [
              "(tensor([ 12,  24,  36,  48,  60,  72,  84,  96, 108, 120]), torch.int64)"
            ]
          },
          "metadata": {},
          "execution_count": 52
        }
      ]
    },
    {
      "cell_type": "code",
      "source": [
        "torch.sum(x)"
      ],
      "metadata": {
        "colab": {
          "base_uri": "https://localhost:8080/"
        },
        "id": "uJOGzV1VL7oX",
        "outputId": "69acb856-5942-45b5-ab06-6bc390218733"
      },
      "execution_count": null,
      "outputs": [
        {
          "output_type": "execute_result",
          "data": {
            "text/plain": [
              "tensor(660)"
            ]
          },
          "metadata": {},
          "execution_count": 53
        }
      ]
    },
    {
      "cell_type": "code",
      "source": [
        "x.argmin(),x.argmax()"
      ],
      "metadata": {
        "colab": {
          "base_uri": "https://localhost:8080/"
        },
        "id": "MxJP0FB2ggBa",
        "outputId": "44fa366c-7d0b-4577-c587-072e4a0e799c"
      },
      "execution_count": null,
      "outputs": [
        {
          "output_type": "execute_result",
          "data": {
            "text/plain": [
              "(tensor(0), tensor(9))"
            ]
          },
          "metadata": {},
          "execution_count": 54
        }
      ]
    },
    {
      "cell_type": "code",
      "source": [
        "torch.argmin(x),torch.argmax(x)"
      ],
      "metadata": {
        "colab": {
          "base_uri": "https://localhost:8080/"
        },
        "id": "dpb-itR4gzix",
        "outputId": "9faa8866-06d8-4cfd-cfa8-c722afe0a232"
      },
      "execution_count": null,
      "outputs": [
        {
          "output_type": "execute_result",
          "data": {
            "text/plain": [
              "(tensor(0), tensor(9))"
            ]
          },
          "metadata": {},
          "execution_count": 55
        }
      ]
    },
    {
      "cell_type": "code",
      "source": [
        "torch.cuda.is_available()"
      ],
      "metadata": {
        "colab": {
          "base_uri": "https://localhost:8080/"
        },
        "id": "OY5Xk-jeGp6o",
        "outputId": "eb3ab0a1-7cf3-4f59-d4c0-763392194bac"
      },
      "execution_count": null,
      "outputs": [
        {
          "output_type": "execute_result",
          "data": {
            "text/plain": [
              "True"
            ]
          },
          "metadata": {},
          "execution_count": 56
        }
      ]
    },
    {
      "cell_type": "markdown",
      "source": [],
      "metadata": {
        "id": "ZJULgiknGofw"
      }
    },
    {
      "cell_type": "code",
      "source": [
        "x = torch.arange(1,9)\n",
        "x, x.shape"
      ],
      "metadata": {
        "colab": {
          "base_uri": "https://localhost:8080/"
        },
        "id": "ngsvjsMmOPCY",
        "outputId": "a9d154dd-b44e-41fa-f6f1-b5d26b1c33ab"
      },
      "execution_count": null,
      "outputs": [
        {
          "output_type": "execute_result",
          "data": {
            "text/plain": [
              "(tensor([1, 2, 3, 4, 5, 6, 7, 8]), torch.Size([8]))"
            ]
          },
          "metadata": {},
          "execution_count": 57
        }
      ]
    },
    {
      "cell_type": "code",
      "source": [
        "x_reshaped= x.reshape(1,8)\n",
        "x_reshaped ,x_reshaped.shape"
      ],
      "metadata": {
        "colab": {
          "base_uri": "https://localhost:8080/"
        },
        "id": "aSi3_wOeOflI",
        "outputId": "455dc4d5-936d-4273-84a7-6419e34ed9f2"
      },
      "execution_count": null,
      "outputs": [
        {
          "output_type": "execute_result",
          "data": {
            "text/plain": [
              "(tensor([[1, 2, 3, 4, 5, 6, 7, 8]]), torch.Size([1, 8]))"
            ]
          },
          "metadata": {},
          "execution_count": 58
        }
      ]
    },
    {
      "cell_type": "code",
      "source": [
        "z=x.view(1,8)\n",
        "z"
      ],
      "metadata": {
        "colab": {
          "base_uri": "https://localhost:8080/"
        },
        "id": "RcJaT26dOq4l",
        "outputId": "3a9e5c68-8efd-48dd-d266-e0c027c0dbcf"
      },
      "execution_count": null,
      "outputs": [
        {
          "output_type": "execute_result",
          "data": {
            "text/plain": [
              "tensor([[1, 2, 3, 4, 5, 6, 7, 8]])"
            ]
          },
          "metadata": {},
          "execution_count": 59
        }
      ]
    },
    {
      "cell_type": "code",
      "source": [
        "z[:,1]=100\n",
        "x,z"
      ],
      "metadata": {
        "colab": {
          "base_uri": "https://localhost:8080/"
        },
        "id": "1g7tuEO2Oqgw",
        "outputId": "818887ff-fcd3-4fa1-c278-26f02a18883e"
      },
      "execution_count": null,
      "outputs": [
        {
          "output_type": "execute_result",
          "data": {
            "text/plain": [
              "(tensor([  1, 100,   3,   4,   5,   6,   7,   8]),\n",
              " tensor([[  1, 100,   3,   4,   5,   6,   7,   8]]))"
            ]
          },
          "metadata": {},
          "execution_count": 60
        }
      ]
    },
    {
      "cell_type": "code",
      "source": [
        "x_stacked=torch.stack([x,x,x],dim=1)\n",
        "x_stacked,x_stacked.shape"
      ],
      "metadata": {
        "colab": {
          "base_uri": "https://localhost:8080/"
        },
        "id": "YZ3QVVY5O5tl",
        "outputId": "be7734ff-176d-4493-99a5-70a5824a8b27"
      },
      "execution_count": null,
      "outputs": [
        {
          "output_type": "execute_result",
          "data": {
            "text/plain": [
              "(tensor([[  1,   1,   1],\n",
              "         [100, 100, 100],\n",
              "         [  3,   3,   3],\n",
              "         [  4,   4,   4],\n",
              "         [  5,   5,   5],\n",
              "         [  6,   6,   6],\n",
              "         [  7,   7,   7],\n",
              "         [  8,   8,   8]]),\n",
              " torch.Size([8, 3]))"
            ]
          },
          "metadata": {},
          "execution_count": 61
        }
      ]
    },
    {
      "cell_type": "code",
      "source": [
        "torch.reshape(x_stacked,(3,8))"
      ],
      "metadata": {
        "colab": {
          "base_uri": "https://localhost:8080/"
        },
        "id": "jxSOGvhHPPf9",
        "outputId": "6ae6d6fa-cdbc-451b-8811-3e451868dd20"
      },
      "execution_count": null,
      "outputs": [
        {
          "output_type": "execute_result",
          "data": {
            "text/plain": [
              "tensor([[  1,   1,   1, 100, 100, 100,   3,   3],\n",
              "        [  3,   4,   4,   4,   5,   5,   5,   6],\n",
              "        [  6,   6,   7,   7,   7,   8,   8,   8]])"
            ]
          },
          "metadata": {},
          "execution_count": 62
        }
      ]
    },
    {
      "cell_type": "code",
      "source": [
        "\n",
        "x_stacked"
      ],
      "metadata": {
        "colab": {
          "base_uri": "https://localhost:8080/"
        },
        "id": "_6q_LYvZPbJl",
        "outputId": "753fc9c3-d61d-4b54-959a-c90dd51bac8a"
      },
      "execution_count": null,
      "outputs": [
        {
          "output_type": "execute_result",
          "data": {
            "text/plain": [
              "tensor([[  1,   1,   1],\n",
              "        [100, 100, 100],\n",
              "        [  3,   3,   3],\n",
              "        [  4,   4,   4],\n",
              "        [  5,   5,   5],\n",
              "        [  6,   6,   6],\n",
              "        [  7,   7,   7],\n",
              "        [  8,   8,   8]])"
            ]
          },
          "metadata": {},
          "execution_count": 63
        }
      ]
    },
    {
      "cell_type": "code",
      "source": [
        "x_squeezed= torch.squeeze(x_reshaped)\n",
        "x_squeezed,x_squeezed.shape"
      ],
      "metadata": {
        "colab": {
          "base_uri": "https://localhost:8080/"
        },
        "id": "5o3uR-ynP7LK",
        "outputId": "185b2f8e-a1db-4087-dbaf-797f1fb38787"
      },
      "execution_count": null,
      "outputs": [
        {
          "output_type": "execute_result",
          "data": {
            "text/plain": [
              "(tensor([  1, 100,   3,   4,   5,   6,   7,   8]), torch.Size([8]))"
            ]
          },
          "metadata": {},
          "execution_count": 64
        }
      ]
    },
    {
      "cell_type": "code",
      "source": [
        "x_unsqueezed=x_squeezed.unsqueeze(dim=0)\n",
        "x_unsqueezed,x_unsqueezed.shape"
      ],
      "metadata": {
        "colab": {
          "base_uri": "https://localhost:8080/"
        },
        "id": "2cSpXfQwQTUn",
        "outputId": "105da95c-c604-44e9-dd30-d07596503df5"
      },
      "execution_count": 69,
      "outputs": [
        {
          "output_type": "execute_result",
          "data": {
            "text/plain": [
              "(tensor([[  1, 100,   3,   4,   5,   6,   7,   8]]), torch.Size([1, 8]))"
            ]
          },
          "metadata": {},
          "execution_count": 69
        }
      ]
    },
    {
      "cell_type": "code",
      "source": [
        "z=torch.rand(3,4,5)\n",
        "z"
      ],
      "metadata": {
        "colab": {
          "base_uri": "https://localhost:8080/"
        },
        "id": "VmNFt8WzQg60",
        "outputId": "46a9633e-77ae-44f5-ab0f-2e7fd4f336cf"
      },
      "execution_count": null,
      "outputs": [
        {
          "output_type": "execute_result",
          "data": {
            "text/plain": [
              "tensor([[[0.0912, 0.4991, 0.1455, 0.3482, 0.8030],\n",
              "         [0.6578, 0.4173, 0.4488, 0.8876, 0.2386],\n",
              "         [0.3363, 0.6057, 0.0040, 0.9965, 0.3565],\n",
              "         [0.5164, 0.4967, 0.6862, 0.2362, 0.8575]],\n",
              "\n",
              "        [[0.7705, 0.8084, 0.4115, 0.0319, 0.4589],\n",
              "         [0.9240, 0.4444, 0.2583, 0.1305, 0.2006],\n",
              "         [0.4465, 0.9328, 0.3570, 0.2864, 0.0269],\n",
              "         [0.7828, 0.4026, 0.6118, 0.0269, 0.9545]],\n",
              "\n",
              "        [[0.9265, 0.9363, 0.4391, 0.5198, 0.3466],\n",
              "         [0.2481, 0.6621, 0.5597, 0.8524, 0.6715],\n",
              "         [0.3182, 0.0166, 0.2267, 0.4657, 0.1218],\n",
              "         [0.4001, 0.3354, 0.4172, 0.0659, 0.2193]]])"
            ]
          },
          "metadata": {},
          "execution_count": 66
        }
      ]
    },
    {
      "cell_type": "code",
      "source": [
        "z_permuted=z.permute(1,2,0)\n",
        "z_permuted,z_permuted.shape\n",
        "\n",
        "\n"
      ],
      "metadata": {
        "colab": {
          "base_uri": "https://localhost:8080/"
        },
        "id": "AKt_P2ciQztV",
        "outputId": "a2198185-98c0-4459-c80c-d2bdbfcfcf08"
      },
      "execution_count": null,
      "outputs": [
        {
          "output_type": "execute_result",
          "data": {
            "text/plain": [
              "(tensor([[[0.0912, 0.7705, 0.9265],\n",
              "          [0.4991, 0.8084, 0.9363],\n",
              "          [0.1455, 0.4115, 0.4391],\n",
              "          [0.3482, 0.0319, 0.5198],\n",
              "          [0.8030, 0.4589, 0.3466]],\n",
              " \n",
              "         [[0.6578, 0.9240, 0.2481],\n",
              "          [0.4173, 0.4444, 0.6621],\n",
              "          [0.4488, 0.2583, 0.5597],\n",
              "          [0.8876, 0.1305, 0.8524],\n",
              "          [0.2386, 0.2006, 0.6715]],\n",
              " \n",
              "         [[0.3363, 0.4465, 0.3182],\n",
              "          [0.6057, 0.9328, 0.0166],\n",
              "          [0.0040, 0.3570, 0.2267],\n",
              "          [0.9965, 0.2864, 0.4657],\n",
              "          [0.3565, 0.0269, 0.1218]],\n",
              " \n",
              "         [[0.5164, 0.7828, 0.4001],\n",
              "          [0.4967, 0.4026, 0.3354],\n",
              "          [0.6862, 0.6118, 0.4172],\n",
              "          [0.2362, 0.0269, 0.0659],\n",
              "          [0.8575, 0.9545, 0.2193]]]),\n",
              " torch.Size([4, 5, 3]))"
            ]
          },
          "metadata": {},
          "execution_count": 67
        }
      ]
    },
    {
      "cell_type": "code",
      "source": [
        "torch.tenosr()"
      ],
      "metadata": {
        "id": "rYLnhIu0RCGB",
        "colab": {
          "base_uri": "https://localhost:8080/",
          "height": 263
        },
        "outputId": "b79fb868-60e8-4b9a-8bed-5cf5e18473a2"
      },
      "execution_count": 70,
      "outputs": [
        {
          "output_type": "error",
          "ename": "AttributeError",
          "evalue": "module 'torch' has no attribute 'tenosr'",
          "traceback": [
            "\u001b[0;31m---------------------------------------------------------------------------\u001b[0m",
            "\u001b[0;31mAttributeError\u001b[0m                            Traceback (most recent call last)",
            "\u001b[0;32m<ipython-input-70-63b2b069cdb9>\u001b[0m in \u001b[0;36m<cell line: 0>\u001b[0;34m()\u001b[0m\n\u001b[0;32m----> 1\u001b[0;31m \u001b[0mtorch\u001b[0m\u001b[0;34m.\u001b[0m\u001b[0mtenosr\u001b[0m\u001b[0;34m(\u001b[0m\u001b[0;34m)\u001b[0m\u001b[0;34m\u001b[0m\u001b[0;34m\u001b[0m\u001b[0m\n\u001b[0m",
            "\u001b[0;32m/usr/local/lib/python3.11/dist-packages/torch/__init__.py\u001b[0m in \u001b[0;36m__getattr__\u001b[0;34m(name)\u001b[0m\n\u001b[1;32m   2679\u001b[0m             \u001b[0;32mreturn\u001b[0m \u001b[0mimportlib\u001b[0m\u001b[0;34m.\u001b[0m\u001b[0mimport_module\u001b[0m\u001b[0;34m(\u001b[0m\u001b[0;34mf\".{name}\"\u001b[0m\u001b[0;34m,\u001b[0m \u001b[0m__name__\u001b[0m\u001b[0;34m)\u001b[0m\u001b[0;34m\u001b[0m\u001b[0;34m\u001b[0m\u001b[0m\n\u001b[1;32m   2680\u001b[0m \u001b[0;34m\u001b[0m\u001b[0m\n\u001b[0;32m-> 2681\u001b[0;31m         \u001b[0;32mraise\u001b[0m \u001b[0mAttributeError\u001b[0m\u001b[0;34m(\u001b[0m\u001b[0;34mf\"module '{__name__}' has no attribute '{name}'\"\u001b[0m\u001b[0;34m)\u001b[0m\u001b[0;34m\u001b[0m\u001b[0;34m\u001b[0m\u001b[0m\n\u001b[0m\u001b[1;32m   2682\u001b[0m \u001b[0;34m\u001b[0m\u001b[0m\n\u001b[1;32m   2683\u001b[0m \u001b[0;34m\u001b[0m\u001b[0m\n",
            "\u001b[0;31mAttributeError\u001b[0m: module 'torch' has no attribute 'tenosr'"
          ]
        }
      ]
    },
    {
      "cell_type": "code",
      "source": [],
      "metadata": {
        "id": "U9xZIGALY04G"
      },
      "execution_count": null,
      "outputs": []
    }
  ]
}